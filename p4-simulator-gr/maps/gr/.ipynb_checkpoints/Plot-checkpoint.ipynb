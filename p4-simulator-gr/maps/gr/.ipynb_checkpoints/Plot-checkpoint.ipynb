{
 "cells": [
  {
   "cell_type": "code",
   "execution_count": 15,
   "metadata": {
    "collapsed": true
   },
   "outputs": [],
   "source": [
    "import pandas as pd \n",
    "data = pd.read_csv(\"sample_dpp_twofake.csv\") \n",
    "data.loc[(data.agent == 'agent_drl_honest'),'agent']='Truthful'\n",
    "data.loc[(data.agent == 'agent_drl_mid'),'agent']='Indifferent'\n",
    "data.loc[(data.agent == 'agent_drl_policy'),'agent']='Policy'\n",
    "data.loc[(data.agent == 'agent_drl_org'),'agent']='Ambiguity'"
   ]
  },
  {
   "cell_type": "code",
   "execution_count": 16,
   "metadata": {},
   "outputs": [
    {
     "data": {
      "text/html": [
       "<div>\n",
       "<style scoped>\n",
       "    .dataframe tbody tr th:only-of-type {\n",
       "        vertical-align: middle;\n",
       "    }\n",
       "\n",
       "    .dataframe tbody tr th {\n",
       "        vertical-align: top;\n",
       "    }\n",
       "\n",
       "    .dataframe thead th {\n",
       "        text-align: right;\n",
       "    }\n",
       "</style>\n",
       "<table border=\"1\" class=\"dataframe\">\n",
       "  <thead>\n",
       "    <tr style=\"text-align: right;\">\n",
       "      <th></th>\n",
       "      <th>map</th>\n",
       "      <th>agent</th>\n",
       "      <th>start</th>\n",
       "      <th>optcost</th>\n",
       "      <th>density</th>\n",
       "      <th>distribution</th>\n",
       "      <th>formula</th>\n",
       "      <th>goal0</th>\n",
       "      <th>costdif</th>\n",
       "      <th>cost</th>\n",
       "      <th>...</th>\n",
       "      <th>cost.3</th>\n",
       "      <th>probability.3</th>\n",
       "      <th>goal4</th>\n",
       "      <th>costdif.4</th>\n",
       "      <th>cost.4</th>\n",
       "      <th>probability.4</th>\n",
       "      <th>goal5</th>\n",
       "      <th>costdif.5</th>\n",
       "      <th>cost.5</th>\n",
       "      <th>probability.5</th>\n",
       "    </tr>\n",
       "  </thead>\n",
       "  <tbody>\n",
       "    <tr>\n",
       "      <th>0</th>\n",
       "      <td>arena2</td>\n",
       "      <td>Truthful</td>\n",
       "      <td>(20, 41)</td>\n",
       "      <td>44.28</td>\n",
       "      <td>10</td>\n",
       "      <td>P</td>\n",
       "      <td>3</td>\n",
       "      <td>(40, 5)</td>\n",
       "      <td>797.172</td>\n",
       "      <td>44.28</td>\n",
       "      <td>...</td>\n",
       "      <td>NaN</td>\n",
       "      <td>NaN</td>\n",
       "      <td>NaN</td>\n",
       "      <td>NaN</td>\n",
       "      <td>NaN</td>\n",
       "      <td>NaN</td>\n",
       "      <td>NaN</td>\n",
       "      <td>NaN</td>\n",
       "      <td>NaN</td>\n",
       "      <td>NaN</td>\n",
       "    </tr>\n",
       "    <tr>\n",
       "      <th>1</th>\n",
       "      <td>arena2</td>\n",
       "      <td>Truthful</td>\n",
       "      <td>(20, 41)</td>\n",
       "      <td>44.28</td>\n",
       "      <td>20</td>\n",
       "      <td>P</td>\n",
       "      <td>3</td>\n",
       "      <td>(40, 5)</td>\n",
       "      <td>792.344</td>\n",
       "      <td>44.28</td>\n",
       "      <td>...</td>\n",
       "      <td>NaN</td>\n",
       "      <td>NaN</td>\n",
       "      <td>NaN</td>\n",
       "      <td>NaN</td>\n",
       "      <td>NaN</td>\n",
       "      <td>NaN</td>\n",
       "      <td>NaN</td>\n",
       "      <td>NaN</td>\n",
       "      <td>NaN</td>\n",
       "      <td>NaN</td>\n",
       "    </tr>\n",
       "    <tr>\n",
       "      <th>2</th>\n",
       "      <td>arena2</td>\n",
       "      <td>Truthful</td>\n",
       "      <td>(20, 41)</td>\n",
       "      <td>44.28</td>\n",
       "      <td>30</td>\n",
       "      <td>P</td>\n",
       "      <td>3</td>\n",
       "      <td>(40, 5)</td>\n",
       "      <td>786.688</td>\n",
       "      <td>44.28</td>\n",
       "      <td>...</td>\n",
       "      <td>NaN</td>\n",
       "      <td>NaN</td>\n",
       "      <td>NaN</td>\n",
       "      <td>NaN</td>\n",
       "      <td>NaN</td>\n",
       "      <td>NaN</td>\n",
       "      <td>NaN</td>\n",
       "      <td>NaN</td>\n",
       "      <td>NaN</td>\n",
       "      <td>NaN</td>\n",
       "    </tr>\n",
       "    <tr>\n",
       "      <th>3</th>\n",
       "      <td>arena2</td>\n",
       "      <td>Truthful</td>\n",
       "      <td>(20, 41)</td>\n",
       "      <td>44.28</td>\n",
       "      <td>40</td>\n",
       "      <td>P</td>\n",
       "      <td>3</td>\n",
       "      <td>(40, 5)</td>\n",
       "      <td>782.446</td>\n",
       "      <td>44.28</td>\n",
       "      <td>...</td>\n",
       "      <td>NaN</td>\n",
       "      <td>NaN</td>\n",
       "      <td>NaN</td>\n",
       "      <td>NaN</td>\n",
       "      <td>NaN</td>\n",
       "      <td>NaN</td>\n",
       "      <td>NaN</td>\n",
       "      <td>NaN</td>\n",
       "      <td>NaN</td>\n",
       "      <td>NaN</td>\n",
       "    </tr>\n",
       "    <tr>\n",
       "      <th>4</th>\n",
       "      <td>arena2</td>\n",
       "      <td>Truthful</td>\n",
       "      <td>(20, 41)</td>\n",
       "      <td>44.28</td>\n",
       "      <td>50</td>\n",
       "      <td>P</td>\n",
       "      <td>3</td>\n",
       "      <td>(40, 5)</td>\n",
       "      <td>777.618</td>\n",
       "      <td>44.28</td>\n",
       "      <td>...</td>\n",
       "      <td>NaN</td>\n",
       "      <td>NaN</td>\n",
       "      <td>NaN</td>\n",
       "      <td>NaN</td>\n",
       "      <td>NaN</td>\n",
       "      <td>NaN</td>\n",
       "      <td>NaN</td>\n",
       "      <td>NaN</td>\n",
       "      <td>NaN</td>\n",
       "      <td>NaN</td>\n",
       "    </tr>\n",
       "  </tbody>\n",
       "</table>\n",
       "<p>5 rows × 31 columns</p>\n",
       "</div>"
      ],
      "text/plain": [
       "      map     agent     start  optcost  density distribution  formula  \\\n",
       "0  arena2  Truthful  (20, 41)    44.28       10            P        3   \n",
       "1  arena2  Truthful  (20, 41)    44.28       20            P        3   \n",
       "2  arena2  Truthful  (20, 41)    44.28       30            P        3   \n",
       "3  arena2  Truthful  (20, 41)    44.28       40            P        3   \n",
       "4  arena2  Truthful  (20, 41)    44.28       50            P        3   \n",
       "\n",
       "     goal0  costdif   cost  ...  cost.3 probability.3  goal4  costdif.4  \\\n",
       "0  (40, 5)  797.172  44.28  ...     NaN           NaN    NaN        NaN   \n",
       "1  (40, 5)  792.344  44.28  ...     NaN           NaN    NaN        NaN   \n",
       "2  (40, 5)  786.688  44.28  ...     NaN           NaN    NaN        NaN   \n",
       "3  (40, 5)  782.446  44.28  ...     NaN           NaN    NaN        NaN   \n",
       "4  (40, 5)  777.618  44.28  ...     NaN           NaN    NaN        NaN   \n",
       "\n",
       "   cost.4 probability.4  goal5  costdif.5  cost.5  probability.5  \n",
       "0     NaN           NaN    NaN        NaN     NaN            NaN  \n",
       "1     NaN           NaN    NaN        NaN     NaN            NaN  \n",
       "2     NaN           NaN    NaN        NaN     NaN            NaN  \n",
       "3     NaN           NaN    NaN        NaN     NaN            NaN  \n",
       "4     NaN           NaN    NaN        NaN     NaN            NaN  \n",
       "\n",
       "[5 rows x 31 columns]"
      ]
     },
     "execution_count": 16,
     "metadata": {},
     "output_type": "execute_result"
    }
   ],
   "source": [
    "data.head()"
   ]
  },
  {
   "cell_type": "code",
   "execution_count": 17,
   "metadata": {
    "collapsed": true
   },
   "outputs": [],
   "source": [
    "avgdata = data.groupby(['agent', 'density'], as_index=False).mean()\n",
    "avgdata = avgdata[avgdata['density']!=100] #exclude "
   ]
  },
  {
   "cell_type": "code",
   "execution_count": 18,
   "metadata": {},
   "outputs": [
    {
     "data": {
      "text/html": [
       "<div>\n",
       "<style scoped>\n",
       "    .dataframe tbody tr th:only-of-type {\n",
       "        vertical-align: middle;\n",
       "    }\n",
       "\n",
       "    .dataframe tbody tr th {\n",
       "        vertical-align: top;\n",
       "    }\n",
       "\n",
       "    .dataframe thead th {\n",
       "        text-align: right;\n",
       "    }\n",
       "</style>\n",
       "<table border=\"1\" class=\"dataframe\">\n",
       "  <thead>\n",
       "    <tr style=\"text-align: right;\">\n",
       "      <th></th>\n",
       "      <th>agent</th>\n",
       "      <th>density</th>\n",
       "      <th>optcost</th>\n",
       "      <th>formula</th>\n",
       "      <th>costdif</th>\n",
       "      <th>cost</th>\n",
       "      <th>probability</th>\n",
       "      <th>costdif.1</th>\n",
       "      <th>cost.1</th>\n",
       "      <th>probability.1</th>\n",
       "      <th>...</th>\n",
       "      <th>cost.3</th>\n",
       "      <th>probability.3</th>\n",
       "      <th>goal4</th>\n",
       "      <th>costdif.4</th>\n",
       "      <th>cost.4</th>\n",
       "      <th>probability.4</th>\n",
       "      <th>goal5</th>\n",
       "      <th>costdif.5</th>\n",
       "      <th>cost.5</th>\n",
       "      <th>probability.5</th>\n",
       "    </tr>\n",
       "  </thead>\n",
       "  <tbody>\n",
       "    <tr>\n",
       "      <th>0</th>\n",
       "      <td>Ambiguity</td>\n",
       "      <td>10</td>\n",
       "      <td>40.379353</td>\n",
       "      <td>3</td>\n",
       "      <td>796.865882</td>\n",
       "      <td>51.745765</td>\n",
       "      <td>0.340882</td>\n",
       "      <td>797.282882</td>\n",
       "      <td>51.745765</td>\n",
       "      <td>0.327353</td>\n",
       "      <td>...</td>\n",
       "      <td>NaN</td>\n",
       "      <td>NaN</td>\n",
       "      <td>NaN</td>\n",
       "      <td>NaN</td>\n",
       "      <td>NaN</td>\n",
       "      <td>NaN</td>\n",
       "      <td>NaN</td>\n",
       "      <td>NaN</td>\n",
       "      <td>NaN</td>\n",
       "      <td>NaN</td>\n",
       "    </tr>\n",
       "    <tr>\n",
       "      <th>1</th>\n",
       "      <td>Ambiguity</td>\n",
       "      <td>20</td>\n",
       "      <td>40.379353</td>\n",
       "      <td>3</td>\n",
       "      <td>792.600824</td>\n",
       "      <td>51.745765</td>\n",
       "      <td>0.354706</td>\n",
       "      <td>793.954118</td>\n",
       "      <td>51.745765</td>\n",
       "      <td>0.312353</td>\n",
       "      <td>...</td>\n",
       "      <td>NaN</td>\n",
       "      <td>NaN</td>\n",
       "      <td>NaN</td>\n",
       "      <td>NaN</td>\n",
       "      <td>NaN</td>\n",
       "      <td>NaN</td>\n",
       "      <td>NaN</td>\n",
       "      <td>NaN</td>\n",
       "      <td>NaN</td>\n",
       "      <td>NaN</td>\n",
       "    </tr>\n",
       "    <tr>\n",
       "      <th>2</th>\n",
       "      <td>Ambiguity</td>\n",
       "      <td>30</td>\n",
       "      <td>40.379353</td>\n",
       "      <td>3</td>\n",
       "      <td>788.707059</td>\n",
       "      <td>51.745765</td>\n",
       "      <td>0.386471</td>\n",
       "      <td>792.174235</td>\n",
       "      <td>51.745765</td>\n",
       "      <td>0.285000</td>\n",
       "      <td>...</td>\n",
       "      <td>NaN</td>\n",
       "      <td>NaN</td>\n",
       "      <td>NaN</td>\n",
       "      <td>NaN</td>\n",
       "      <td>NaN</td>\n",
       "      <td>NaN</td>\n",
       "      <td>NaN</td>\n",
       "      <td>NaN</td>\n",
       "      <td>NaN</td>\n",
       "      <td>NaN</td>\n",
       "    </tr>\n",
       "    <tr>\n",
       "      <th>3</th>\n",
       "      <td>Ambiguity</td>\n",
       "      <td>40</td>\n",
       "      <td>40.379353</td>\n",
       "      <td>3</td>\n",
       "      <td>784.338765</td>\n",
       "      <td>51.745765</td>\n",
       "      <td>0.430000</td>\n",
       "      <td>791.095176</td>\n",
       "      <td>51.745765</td>\n",
       "      <td>0.247647</td>\n",
       "      <td>...</td>\n",
       "      <td>NaN</td>\n",
       "      <td>NaN</td>\n",
       "      <td>NaN</td>\n",
       "      <td>NaN</td>\n",
       "      <td>NaN</td>\n",
       "      <td>NaN</td>\n",
       "      <td>NaN</td>\n",
       "      <td>NaN</td>\n",
       "      <td>NaN</td>\n",
       "      <td>NaN</td>\n",
       "    </tr>\n",
       "    <tr>\n",
       "      <th>4</th>\n",
       "      <td>Ambiguity</td>\n",
       "      <td>50</td>\n",
       "      <td>40.379353</td>\n",
       "      <td>3</td>\n",
       "      <td>780.247353</td>\n",
       "      <td>51.745765</td>\n",
       "      <td>0.467647</td>\n",
       "      <td>790.586000</td>\n",
       "      <td>51.745765</td>\n",
       "      <td>0.216471</td>\n",
       "      <td>...</td>\n",
       "      <td>NaN</td>\n",
       "      <td>NaN</td>\n",
       "      <td>NaN</td>\n",
       "      <td>NaN</td>\n",
       "      <td>NaN</td>\n",
       "      <td>NaN</td>\n",
       "      <td>NaN</td>\n",
       "      <td>NaN</td>\n",
       "      <td>NaN</td>\n",
       "      <td>NaN</td>\n",
       "    </tr>\n",
       "  </tbody>\n",
       "</table>\n",
       "<p>5 rows × 25 columns</p>\n",
       "</div>"
      ],
      "text/plain": [
       "       agent  density    optcost  formula     costdif       cost  probability  \\\n",
       "0  Ambiguity       10  40.379353        3  796.865882  51.745765     0.340882   \n",
       "1  Ambiguity       20  40.379353        3  792.600824  51.745765     0.354706   \n",
       "2  Ambiguity       30  40.379353        3  788.707059  51.745765     0.386471   \n",
       "3  Ambiguity       40  40.379353        3  784.338765  51.745765     0.430000   \n",
       "4  Ambiguity       50  40.379353        3  780.247353  51.745765     0.467647   \n",
       "\n",
       "    costdif.1     cost.1  probability.1  ...  cost.3  probability.3  goal4  \\\n",
       "0  797.282882  51.745765       0.327353  ...     NaN            NaN    NaN   \n",
       "1  793.954118  51.745765       0.312353  ...     NaN            NaN    NaN   \n",
       "2  792.174235  51.745765       0.285000  ...     NaN            NaN    NaN   \n",
       "3  791.095176  51.745765       0.247647  ...     NaN            NaN    NaN   \n",
       "4  790.586000  51.745765       0.216471  ...     NaN            NaN    NaN   \n",
       "\n",
       "   costdif.4  cost.4  probability.4  goal5  costdif.5  cost.5  probability.5  \n",
       "0        NaN     NaN            NaN    NaN        NaN     NaN            NaN  \n",
       "1        NaN     NaN            NaN    NaN        NaN     NaN            NaN  \n",
       "2        NaN     NaN            NaN    NaN        NaN     NaN            NaN  \n",
       "3        NaN     NaN            NaN    NaN        NaN     NaN            NaN  \n",
       "4        NaN     NaN            NaN    NaN        NaN     NaN            NaN  \n",
       "\n",
       "[5 rows x 25 columns]"
      ]
     },
     "execution_count": 18,
     "metadata": {},
     "output_type": "execute_result"
    }
   ],
   "source": [
    "avgdata.head()"
   ]
  },
  {
   "cell_type": "code",
   "execution_count": 19,
   "metadata": {},
   "outputs": [
    {
     "data": {
      "text/html": [
       "<div>\n",
       "<style scoped>\n",
       "    .dataframe tbody tr th:only-of-type {\n",
       "        vertical-align: middle;\n",
       "    }\n",
       "\n",
       "    .dataframe tbody tr th {\n",
       "        vertical-align: top;\n",
       "    }\n",
       "\n",
       "    .dataframe thead th {\n",
       "        text-align: right;\n",
       "    }\n",
       "</style>\n",
       "<table border=\"1\" class=\"dataframe\">\n",
       "  <thead>\n",
       "    <tr style=\"text-align: right;\">\n",
       "      <th></th>\n",
       "      <th>agent</th>\n",
       "      <th>density</th>\n",
       "      <th>probability</th>\n",
       "      <th>cost</th>\n",
       "    </tr>\n",
       "  </thead>\n",
       "  <tbody>\n",
       "    <tr>\n",
       "      <th>0</th>\n",
       "      <td>Ambiguity</td>\n",
       "      <td>10</td>\n",
       "      <td>0.340882</td>\n",
       "      <td>51.745765</td>\n",
       "    </tr>\n",
       "    <tr>\n",
       "      <th>1</th>\n",
       "      <td>Ambiguity</td>\n",
       "      <td>20</td>\n",
       "      <td>0.354706</td>\n",
       "      <td>51.745765</td>\n",
       "    </tr>\n",
       "    <tr>\n",
       "      <th>2</th>\n",
       "      <td>Ambiguity</td>\n",
       "      <td>30</td>\n",
       "      <td>0.386471</td>\n",
       "      <td>51.745765</td>\n",
       "    </tr>\n",
       "    <tr>\n",
       "      <th>3</th>\n",
       "      <td>Ambiguity</td>\n",
       "      <td>40</td>\n",
       "      <td>0.430000</td>\n",
       "      <td>51.745765</td>\n",
       "    </tr>\n",
       "    <tr>\n",
       "      <th>4</th>\n",
       "      <td>Ambiguity</td>\n",
       "      <td>50</td>\n",
       "      <td>0.467647</td>\n",
       "      <td>51.745765</td>\n",
       "    </tr>\n",
       "  </tbody>\n",
       "</table>\n",
       "</div>"
      ],
      "text/plain": [
       "       agent  density  probability       cost\n",
       "0  Ambiguity       10     0.340882  51.745765\n",
       "1  Ambiguity       20     0.354706  51.745765\n",
       "2  Ambiguity       30     0.386471  51.745765\n",
       "3  Ambiguity       40     0.430000  51.745765\n",
       "4  Ambiguity       50     0.467647  51.745765"
      ]
     },
     "execution_count": 19,
     "metadata": {},
     "output_type": "execute_result"
    }
   ],
   "source": [
    "plotdata = avgdata[['agent', 'density', 'probability','cost']]\n",
    "plotdata.head()"
   ]
  },
  {
   "cell_type": "code",
   "execution_count": 20,
   "metadata": {},
   "outputs": [
    {
     "data": {
      "text/plain": [
       "Text(0, 0.5, 'Proportoin to the Optimal Path')"
      ]
     },
     "execution_count": 20,
     "metadata": {},
     "output_type": "execute_result"
    }
   ],
   "source": [
    "boxplot = plotdata.boxplot()\n",
    "boxplot.set_ylabel(\"Proportoin to the Optimal Path\")"
   ]
  },
  {
   "cell_type": "code",
   "execution_count": 21,
   "metadata": {
    "collapsed": true
   },
   "outputs": [],
   "source": [
    "import matplotlib.pyplot as plt\n",
    "import numpy as np"
   ]
  },
  {
   "cell_type": "code",
   "execution_count": 22,
   "metadata": {},
   "outputs": [
    {
     "name": "stdout",
     "output_type": "stream",
     "text": [
      "[10 20 30 40 50 60 70 80 90]\n"
     ]
    }
   ],
   "source": []
  },
  {
   "cell_type": "code",
   "execution_count": 23,
   "metadata": {},
   "outputs": [
    {
     "name": "stdout",
     "output_type": "stream",
     "text": [
      "[0.34088235 0.35470588 0.38647059 0.43       0.46764706 0.50117647\n",
      " 0.54941176 0.61852941 0.72088235]\n",
      "[0.34294118 0.36235294 0.38470588 0.42117647 0.45558824 0.485\n",
      " 0.54705882 0.65382353 0.76      ]\n",
      "[0.33058824 0.33294118 0.34705882 0.37941176 0.40529412 0.43823529\n",
      " 0.50235294 0.61617647 0.74294118]\n",
      "[0.34941176 0.39205882 0.43588235 0.48294118 0.52911765 0.57676471\n",
      " 0.64705882 0.715      0.78088235]\n"
     ]
    }
   ],
   "source": [
    "for agent in plotdata['agent'].unique():\n",
    "    print(np.asarray(plotdata[plotdata['agent']==agent]['probability']))"
   ]
  },
  {
   "cell_type": "code",
   "execution_count": 60,
   "metadata": {},
   "outputs": [
    {
     "data": {
      "image/png": "[encoded data removed]",
      "text/plain": [
       "<Figure size 432x288 with 1 Axes>"
      ]
     },
     "metadata": {},
     "output_type": "display_data"
    }
   ],
   "source": [
    "x = np.arange(10, 100, 10)\n",
    "#print(x)\n",
    "for agent in plotdata['agent'].unique():\n",
    "    y = np.asarray(plotdata[plotdata['agent']==agent]['probability'])\n",
    "    plt.plot(x, y, label=agent)\n",
    "    \n",
    "plt.legend()\n",
    "plt.xlabel('Density (%)')\n",
    "plt.ylabel('Probability of true goal')\n",
    "\n",
    "plt.grid(True)\n",
    "plt.savefig('prob_per_density.jpg')\n",
    "plt.show()"
   ]
  },
  {
   "cell_type": "code",
   "execution_count": 38,
   "metadata": {},
   "outputs": [],
   "source": [
    "costdata = plotdata[plotdata['density']==10][['agent','cost']]\n",
    "costdata = costdata.sort_values(by=['cost'])"
   ]
  },
  {
   "cell_type": "code",
   "execution_count": 52,
   "metadata": {},
   "outputs": [
    {
     "name": "stdout",
     "output_type": "stream",
     "text": [
      "[40.37935294 45.02041176 46.02252941 51.74576471]\n",
      "<class 'numpy.float64'>\n",
      "[1.         1.11493643 1.13975401 1.28149069]\n"
     ]
    }
   ],
   "source": [
    "y = np.asarray(costdata['cost'])\n",
    "n = (costdata[costdata['agent']=='Truthful']['cost']).iat[0]\n",
    "y = np.true_divide(y, n)\n",
    "print(y)"
   ]
  },
  {
   "cell_type": "code",
   "execution_count": 61,
   "metadata": {},
   "outputs": [
    {
     "data": {
      "image/png": "[encoded data removed]",
      "text/plain": [
       "<Figure size 432x288 with 1 Axes>"
      ]
     },
     "metadata": {},
     "output_type": "display_data"
    }
   ],
   "source": [
    "x = np.asarray(costdata['agent'])\n",
    "y = np.asarray(costdata['cost'])\n",
    "oc = (costdata[costdata['agent']=='Truthful']['cost']).iat[0]\n",
    "y = np.true_divide(y, oc)\n",
    "plt.plot(x, y, label=agent)\n",
    "    \n",
    "plt.legend()\n",
    "plt.xlabel('Model')\n",
    "plt.ylabel('Cost in proportion to optimal')\n",
    "\n",
    "plt.grid(True)\n",
    "plt.savefig('cost_proportion.jpg')\n",
    "plt.show()"
   ]
  },
  {
   "cell_type": "code",
   "execution_count": 14,
   "metadata": {},
   "outputs": [
    {
     "data": {
      "image/png": "[encoded data removed]",
      "text/plain": [
       "<Figure size 432x288 with 1 Axes>"
      ]
     },
     "metadata": {},
     "output_type": "display_data"
    }
   ],
   "source": [
    "for agent in plotdata['agent'].unique():\n",
    "    y = np.asarray(plotdata[plotdata['agent']==agent]['probability'])\n",
    "    plt.bar(x, y, label=agent)\n",
    "    \n",
    "plt.legend()\n",
    "plt.xlabel('Density (%)')\n",
    "plt.ylabel('Probability of true goal')\n",
    "\n",
    "plt.grid(True)\n",
    "plt.show()"
   ]
  }
 ],
 "metadata": {
  "kernelspec": {
   "display_name": "Python 3",
   "language": "python",
   "name": "python3"
  },
  "language_info": {
   "codemirror_mode": {
    "name": "ipython",
    "version": 3
   },
   "file_extension": ".py",
   "mimetype": "text/x-python",
   "name": "python",
   "nbconvert_exporter": "python",
   "pygments_lexer": "ipython3",
   "version": "3.6.8"
  }
 },
 "nbformat": 4,
 "nbformat_minor": 2
}
